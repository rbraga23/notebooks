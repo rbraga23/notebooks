{
 "cells": [
  {
   "cell_type": "code",
   "execution_count": null,
   "metadata": {},
   "outputs": [],
   "source": [
    "import types\n",
    "import urllib3, requests, json\n",
    "import pandas as pd\n",
    "\n",
    "df_data_1 = pd.read_csv('bases 2024/leads_fixed.csv', low_memory=False, sep=',', encoding='utf8')\n",
    "df_data_1.shape"
   ]
  },
  {
   "cell_type": "code",
   "execution_count": null,
   "metadata": {},
   "outputs": [],
   "source": [
    "df_data_1 = df_data_1.drop(columns=['BINARY_LIFECYCLE'], axis=1)\n",
    "df_data_1.head()"
   ]
  },
  {
   "cell_type": "code",
   "execution_count": null,
   "metadata": {
    "scrolled": true
   },
   "outputs": [],
   "source": [
    "df_fields = df_data_1.to_json(orient='table', force_ascii=False, index=False)\n",
    "df_values = df_data_1.to_json(orient='values', force_ascii=False)\n",
    "j_fields = json.loads(df_fields)\n",
    "j_values = json.loads(df_values)\n",
    "fields = []\n",
    "values = []\n",
    "\n",
    "for index1, value in enumerate(j_values):\n",
    "        values.append(value)\n",
    "\n",
    "for f in j_fields['schema']['fields']:\n",
    "    fields.append(f['name'])"
   ]
  },
  {
   "cell_type": "code",
   "execution_count": null,
   "metadata": {},
   "outputs": [],
   "source": [
    "# NOTE: you must manually set API_KEY below using information retrieved from your IBM Cloud account.\n",
    "API_KEY = \"IBM_WATSON_API_KEY\"\n",
    "token_response = requests.post('https://iam.ng.bluemix.net/identity/token', data={\"apikey\": API_KEY, \"grant_type\": 'urn:ibm:params:oauth:grant-type:apikey'})\n",
    "mltoken = token_response.json()[\"access_token\"]\n",
    "\n",
    "header = {'Content-Type': 'application/json', 'Authorization': 'Bearer ' + mltoken}\n",
    "\n",
    "# NOTE: manually define and pass the array(s) of values to be scored in the next line\n",
    "payload_scoring = {\"input_data\": [{\"fields\": fields, \"values\": values}]}\n",
    "\n",
    "response_scoring = requests.post('https://us-south.ml.cloud.ibm.com/ml/v4/deployments/<DEPLOYMENT_ID>/predictions?version=2023-03-07', json=payload_scoring, headers={'Authorization': 'Bearer ' + mltoken})\n",
    "response_json = json.loads(response_scoring.text)"
   ]
  },
  {
   "cell_type": "code",
   "execution_count": null,
   "metadata": {},
   "outputs": [],
   "source": [
    "response_json['predictions'][0]"
   ]
  },
  {
   "cell_type": "code",
   "execution_count": null,
   "metadata": {},
   "outputs": [],
   "source": [
    "result = json.loads(response_scoring.text)\n",
    "\n",
    "result_data = {'contact ID': df_data_1['RECORD_ID'], 'Negative chance': None, 'Positive chance': None, 'Conversion': None}\n",
    "result_df = pd.DataFrame(data=result_data)\n",
    "\n",
    "for i in range(len(result['predictions'][0]['values'])):\n",
    "    result_df.at[i, 'Negative chance'] = \"{:.2%}\".format(result['predictions'][0]['values'][i][1][0])\n",
    "    result_df.at[i, 'Positive chance'] = \"{:.2%}\".format(result['predictions'][0]['values'][i][1][1])\n",
    "    result_df.at[i, 'Conversion'] = \"Yes\" if (result['predictions'][0]['values'][i][0]) else \"No\""
   ]
  },
  {
   "cell_type": "code",
   "execution_count": null,
   "metadata": {},
   "outputs": [],
   "source": [
    "export = result_df.to_excel(r'scorings 2023/' + 'lead' + '_scoring.xlsx', index=False, encoding='utf-8')"
   ]
  }
 ],
 "metadata": {
  "kernelspec": {
   "display_name": "Python 3 (ipykernel)",
   "language": "python",
   "name": "python3"
  },
  "language_info": {
   "codemirror_mode": {
    "name": "ipython",
    "version": 3
   },
   "file_extension": ".py",
   "mimetype": "text/x-python",
   "name": "python",
   "nbconvert_exporter": "python",
   "pygments_lexer": "ipython3",
   "version": "3.11.5"
  }
 },
 "nbformat": 4,
 "nbformat_minor": 4
}
