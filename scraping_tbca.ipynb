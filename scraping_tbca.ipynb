{
 "cells": [
  {
   "cell_type": "code",
   "execution_count": 1,
   "id": "04afc745-df8f-436a-a679-afb18c91ad10",
   "metadata": {
    "scrolled": true
   },
   "outputs": [],
   "source": [
    "from bs4 import BeautifulSoup as BS\n",
    "import requests as r\n",
    "import json\n",
    "import re\n",
    "import sys\n",
    "import os"
   ]
  },
  {
   "cell_type": "code",
   "execution_count": 2,
   "id": "6d866a40-6134-4fe4-8d38-7522240057dd",
   "metadata": {},
   "outputs": [],
   "source": [
    "FILENAME = 'json/tbca'\n",
    "\n",
    "# LANGUAGE PT-BR\n",
    "BASE_URL = 'https://www.tbca.net.br/base-dados'\n",
    "BASE_PAGE = 'https://www.tbca.net.br/base-dados/composicao_alimentos.php'"
   ]
  },
  {
   "cell_type": "code",
   "execution_count": null,
   "id": "ad3bf333-1311-4afd-b4c3-5d82d052af63",
   "metadata": {},
   "outputs": [],
   "source": [
    "def getPage(url):\n",
    "    page = r.get(url)\n",
    "    return BS(page.text, 'html.parser')"
   ]
  },
  {
   "cell_type": "code",
   "execution_count": null,
   "id": "a79bf5b8-dc36-4b63-a4f6-8568679d118b",
   "metadata": {},
   "outputs": [],
   "source": [
    "def getTableRows(soup):\n",
    "    food_links = []\n",
    "    tbody = soup.find('tbody')\n",
    "    trs = tbody.findChildren('tr', recursive=False)\n",
    "    for tr in trs:\n",
    "        link = tr.find('a').get('href')\n",
    "        food_links.append(f\"{BASE_URL}/{link}\")\n",
    "    \n",
    "    return food_links"
   ]
  },
  {
   "cell_type": "code",
   "execution_count": null,
   "id": "37be6fe6-4239-4659-a1d5-1ef41c1487be",
   "metadata": {},
   "outputs": [],
   "source": [
    "def getNextPage(soup):\n",
    "    a = soup.find('a', string=re.compile(r'próxima'))\n",
    "    if not a is None:\n",
    "        return f\"{BASE_URL}/{a.get('href')}\"\n",
    "   \n",
    "    return None"
   ]
  },
  {
   "cell_type": "code",
   "execution_count": null,
   "id": "0403b786-edbc-4755-91e2-e175c770e248",
   "metadata": {},
   "outputs": [],
   "source": [
    "def getFoodInfo(soup):\n",
    "    header_text = soup.find('h5', id='overview').text\n",
    "    food = {\n",
    "        'code': re.search('(?<=Código: ).*?(?=Descrição:)', header_text).group(0),\n",
    "        'description': re.search('(?<=Descrição: ).*?(?=, <<| <<)', header_text).group(0),\n",
    "        'values': {}\n",
    "    }\n",
    "    tbody = soup.find('tbody')\n",
    "    trs = tbody.findChildren('tr')[1:]\n",
    "    for tr in trs:\n",
    "        tds = tr.findChildren('td')\n",
    "        component, units, value = [td.text for td in tds][0:3]\n",
    "        food['values'][component] = {\n",
    "            'units': units,\n",
    "            'Value per 100g': value\n",
    "        }\n",
    "\n",
    "    return food"
   ]
  },
  {
   "cell_type": "code",
   "execution_count": 17,
   "id": "6fc4e9ab-f230-4fae-8dad-4b89b4ec2be9",
   "metadata": {},
   "outputs": [],
   "source": [
    "def mergeJsonFiles(filename):\n",
    "    result = list()\n",
    "    for f1 in filename:\n",
    "        with open(f\"{os.getcwd()}/TBCA/json/{f1}\", 'r') as infile:\n",
    "            result.extend(json.load(infile))\n",
    "\n",
    "    with open(f'{filename}.json', 'a') as output_file:\n",
    "        json.dump(result, output_file)"
   ]
  },
  {
   "cell_type": "code",
   "execution_count": null,
   "id": "53c39a3a-7d1b-41ec-8d67-35cfe422dc81",
   "metadata": {},
   "outputs": [],
   "source": [
    "page_soup = getPage(BASE_PAGE)\n",
    "next_page_url = getNextPage(page_soup)"
   ]
  },
  {
   "cell_type": "code",
   "execution_count": null,
   "id": "89baa280-4ac6-45f8-9801-d7090476edab",
   "metadata": {
    "scrolled": true
   },
   "outputs": [],
   "source": [
    "file_counter = 1\n",
    "while(True):\n",
    "    chunk = []\n",
    "    table_rows = getTableRows(page_soup)\n",
    "    for table_row in table_rows:\n",
    "        food_soup = getPage(table_row)\n",
    "        chunk.append(getFoodInfo(food_soup))\n",
    "\n",
    "    next_page_url = getNextPage(page_soup)\n",
    "    with open(f\"{FILENAME}_{file_counter}.json\", 'a', encoding='utf8') as outfile:\n",
    "        outfile.write(json.dumps(chunk, ensure_ascii=False))\n",
    "        outfile.close()\n",
    "        file_counter = file_counter + 1\n",
    "\n",
    "    if (next_page_url is None):\n",
    "        break\n",
    "    page_soup = getPage(next_page_url)"
   ]
  },
  {
   "cell_type": "code",
   "execution_count": 18,
   "id": "6c45f1e1-4377-4523-a23c-55b1c1d20423",
   "metadata": {},
   "outputs": [
    {
     "ename": "OSError",
     "evalue": "[Errno 36] File name too long: \"['tbca_5.json', 'tbca_37.json', 'tbca_2.json', 'tbca_15.json', 'tbca_23.json', 'tbca_34.json', 'tbca_3.json', 'tbca_14.json', 'tbca_39.json', 'tbca_13.json', 'tbca_38.json', 'tbca_4.json', 'tbca_11.json', 'tbca_21.json', 'tbca_27.json', 'tbca_44.json', 'tbca_29.json', 'tbca_42.json', 'tbca_9.json', 'tbca_31.json', 'tbca_22.json', 'tbca_41.json', 'tbca_16.json', 'tbca_32.json', 'tbca_45.json', 'tbca_30.json', 'tbca_33.json', 'tbca_12.json', 'tbca_7.json', 'tbca_28.json', 'tbca_26.json', 'tbca_17.json', 'tbca_10.json', 'tbca_25.json', 'tbca_43.json', 'tbca_35.json', 'tbca_19.json', 'tbca_6.json', 'tbca_40.json', 'tbca_46.json', 'tbca_1.json', 'tbca_8.json', 'tbca_24.json', 'tbca_18.json', 'tbca_36.json', 'tbca_20.json', 'tbca_47.json'].json\"",
     "output_type": "error",
     "traceback": [
      "\u001b[0;31m---------------------------------------------------------------------------\u001b[0m",
      "\u001b[0;31mOSError\u001b[0m                                   Traceback (most recent call last)",
      "Cell \u001b[0;32mIn[18], line 1\u001b[0m\n\u001b[0;32m----> 1\u001b[0m \u001b[43mmergeJsonFiles\u001b[49m\u001b[43m(\u001b[49m\u001b[43mos\u001b[49m\u001b[38;5;241;43m.\u001b[39;49m\u001b[43mlistdir\u001b[49m\u001b[43m(\u001b[49m\u001b[38;5;124;43mf\u001b[39;49m\u001b[38;5;124;43m\"\u001b[39;49m\u001b[38;5;132;43;01m{\u001b[39;49;00m\u001b[43mos\u001b[49m\u001b[38;5;241;43m.\u001b[39;49m\u001b[43mgetcwd\u001b[49m\u001b[43m(\u001b[49m\u001b[43m)\u001b[49m\u001b[38;5;132;43;01m}\u001b[39;49;00m\u001b[38;5;124;43m/TBCA/json\u001b[39;49m\u001b[38;5;124;43m\"\u001b[39;49m\u001b[43m)\u001b[49m\u001b[43m)\u001b[49m\n",
      "Cell \u001b[0;32mIn[17], line 7\u001b[0m, in \u001b[0;36mmergeJsonFiles\u001b[0;34m(filename)\u001b[0m\n\u001b[1;32m      4\u001b[0m     \u001b[38;5;28;01mwith\u001b[39;00m \u001b[38;5;28mopen\u001b[39m(\u001b[38;5;124mf\u001b[39m\u001b[38;5;124m\"\u001b[39m\u001b[38;5;132;01m{\u001b[39;00mos\u001b[38;5;241m.\u001b[39mgetcwd()\u001b[38;5;132;01m}\u001b[39;00m\u001b[38;5;124m/TBCA/json/\u001b[39m\u001b[38;5;132;01m{\u001b[39;00mf1\u001b[38;5;132;01m}\u001b[39;00m\u001b[38;5;124m\"\u001b[39m, \u001b[38;5;124m'\u001b[39m\u001b[38;5;124mr\u001b[39m\u001b[38;5;124m'\u001b[39m) \u001b[38;5;28;01mas\u001b[39;00m infile:\n\u001b[1;32m      5\u001b[0m         result\u001b[38;5;241m.\u001b[39mextend(json\u001b[38;5;241m.\u001b[39mload(infile))\n\u001b[0;32m----> 7\u001b[0m \u001b[38;5;28;01mwith\u001b[39;00m \u001b[38;5;28;43mopen\u001b[39;49m\u001b[43m(\u001b[49m\u001b[38;5;124;43mf\u001b[39;49m\u001b[38;5;124;43m'\u001b[39;49m\u001b[38;5;132;43;01m{\u001b[39;49;00m\u001b[43mfilename\u001b[49m\u001b[38;5;132;43;01m}\u001b[39;49;00m\u001b[38;5;124;43m.json\u001b[39;49m\u001b[38;5;124;43m'\u001b[39;49m\u001b[43m,\u001b[49m\u001b[43m \u001b[49m\u001b[38;5;124;43m'\u001b[39;49m\u001b[38;5;124;43ma\u001b[39;49m\u001b[38;5;124;43m'\u001b[39;49m\u001b[43m)\u001b[49m \u001b[38;5;28;01mas\u001b[39;00m output_file:\n\u001b[1;32m      8\u001b[0m     json\u001b[38;5;241m.\u001b[39mdump(result, output_file)\n",
      "File \u001b[0;32m~/miniconda3/lib/python3.11/site-packages/IPython/core/interactiveshell.py:310\u001b[0m, in \u001b[0;36m_modified_open\u001b[0;34m(file, *args, **kwargs)\u001b[0m\n\u001b[1;32m    303\u001b[0m \u001b[38;5;28;01mif\u001b[39;00m file \u001b[38;5;129;01min\u001b[39;00m {\u001b[38;5;241m0\u001b[39m, \u001b[38;5;241m1\u001b[39m, \u001b[38;5;241m2\u001b[39m}:\n\u001b[1;32m    304\u001b[0m     \u001b[38;5;28;01mraise\u001b[39;00m \u001b[38;5;167;01mValueError\u001b[39;00m(\n\u001b[1;32m    305\u001b[0m         \u001b[38;5;124mf\u001b[39m\u001b[38;5;124m\"\u001b[39m\u001b[38;5;124mIPython won\u001b[39m\u001b[38;5;124m'\u001b[39m\u001b[38;5;124mt let you open fd=\u001b[39m\u001b[38;5;132;01m{\u001b[39;00mfile\u001b[38;5;132;01m}\u001b[39;00m\u001b[38;5;124m by default \u001b[39m\u001b[38;5;124m\"\u001b[39m\n\u001b[1;32m    306\u001b[0m         \u001b[38;5;124m\"\u001b[39m\u001b[38;5;124mas it is likely to crash IPython. If you know what you are doing, \u001b[39m\u001b[38;5;124m\"\u001b[39m\n\u001b[1;32m    307\u001b[0m         \u001b[38;5;124m\"\u001b[39m\u001b[38;5;124myou can use builtins\u001b[39m\u001b[38;5;124m'\u001b[39m\u001b[38;5;124m open.\u001b[39m\u001b[38;5;124m\"\u001b[39m\n\u001b[1;32m    308\u001b[0m     )\n\u001b[0;32m--> 310\u001b[0m \u001b[38;5;28;01mreturn\u001b[39;00m \u001b[43mio_open\u001b[49m\u001b[43m(\u001b[49m\u001b[43mfile\u001b[49m\u001b[43m,\u001b[49m\u001b[43m \u001b[49m\u001b[38;5;241;43m*\u001b[39;49m\u001b[43margs\u001b[49m\u001b[43m,\u001b[49m\u001b[43m \u001b[49m\u001b[38;5;241;43m*\u001b[39;49m\u001b[38;5;241;43m*\u001b[39;49m\u001b[43mkwargs\u001b[49m\u001b[43m)\u001b[49m\n",
      "\u001b[0;31mOSError\u001b[0m: [Errno 36] File name too long: \"['tbca_5.json', 'tbca_37.json', 'tbca_2.json', 'tbca_15.json', 'tbca_23.json', 'tbca_34.json', 'tbca_3.json', 'tbca_14.json', 'tbca_39.json', 'tbca_13.json', 'tbca_38.json', 'tbca_4.json', 'tbca_11.json', 'tbca_21.json', 'tbca_27.json', 'tbca_44.json', 'tbca_29.json', 'tbca_42.json', 'tbca_9.json', 'tbca_31.json', 'tbca_22.json', 'tbca_41.json', 'tbca_16.json', 'tbca_32.json', 'tbca_45.json', 'tbca_30.json', 'tbca_33.json', 'tbca_12.json', 'tbca_7.json', 'tbca_28.json', 'tbca_26.json', 'tbca_17.json', 'tbca_10.json', 'tbca_25.json', 'tbca_43.json', 'tbca_35.json', 'tbca_19.json', 'tbca_6.json', 'tbca_40.json', 'tbca_46.json', 'tbca_1.json', 'tbca_8.json', 'tbca_24.json', 'tbca_18.json', 'tbca_36.json', 'tbca_20.json', 'tbca_47.json'].json\""
     ]
    }
   ],
   "source": [
    "mergeJsonFiles(os.listdir(f\"{os.getcwd()}/TBCA/json\"))"
   ]
  },
  {
   "cell_type": "code",
   "execution_count": 10,
   "id": "9015c798-cb63-4432-9cda-8298d330c7de",
   "metadata": {},
   "outputs": [
    {
     "data": {
      "text/plain": [
       "['/home/braga/projects/Python/Scraping/TBCA/json/tbca_5.json',\n",
       " '/home/braga/projects/Python/Scraping/TBCA/json/tbca_37.json',\n",
       " '/home/braga/projects/Python/Scraping/TBCA/json/tbca_2.json',\n",
       " '/home/braga/projects/Python/Scraping/TBCA/json/tbca_15.json',\n",
       " '/home/braga/projects/Python/Scraping/TBCA/json/tbca_23.json',\n",
       " '/home/braga/projects/Python/Scraping/TBCA/json/tbca_34.json',\n",
       " '/home/braga/projects/Python/Scraping/TBCA/json/tbca_3.json',\n",
       " '/home/braga/projects/Python/Scraping/TBCA/json/tbca_14.json',\n",
       " '/home/braga/projects/Python/Scraping/TBCA/json/tbca_39.json',\n",
       " '/home/braga/projects/Python/Scraping/TBCA/json/tbca_13.json',\n",
       " '/home/braga/projects/Python/Scraping/TBCA/json/tbca_38.json',\n",
       " '/home/braga/projects/Python/Scraping/TBCA/json/tbca_4.json',\n",
       " '/home/braga/projects/Python/Scraping/TBCA/json/tbca_11.json',\n",
       " '/home/braga/projects/Python/Scraping/TBCA/json/tbca_21.json',\n",
       " '/home/braga/projects/Python/Scraping/TBCA/json/tbca_27.json',\n",
       " '/home/braga/projects/Python/Scraping/TBCA/json/tbca_44.json',\n",
       " '/home/braga/projects/Python/Scraping/TBCA/json/tbca_29.json',\n",
       " '/home/braga/projects/Python/Scraping/TBCA/json/tbca_42.json',\n",
       " '/home/braga/projects/Python/Scraping/TBCA/json/tbca_9.json',\n",
       " '/home/braga/projects/Python/Scraping/TBCA/json/tbca_31.json',\n",
       " '/home/braga/projects/Python/Scraping/TBCA/json/tbca_22.json',\n",
       " '/home/braga/projects/Python/Scraping/TBCA/json/tbca_41.json',\n",
       " '/home/braga/projects/Python/Scraping/TBCA/json/tbca_16.json',\n",
       " '/home/braga/projects/Python/Scraping/TBCA/json/tbca_32.json',\n",
       " '/home/braga/projects/Python/Scraping/TBCA/json/tbca_45.json',\n",
       " '/home/braga/projects/Python/Scraping/TBCA/json/tbca_30.json',\n",
       " '/home/braga/projects/Python/Scraping/TBCA/json/tbca_33.json',\n",
       " '/home/braga/projects/Python/Scraping/TBCA/json/tbca_12.json',\n",
       " '/home/braga/projects/Python/Scraping/TBCA/json/tbca_7.json',\n",
       " '/home/braga/projects/Python/Scraping/TBCA/json/tbca_28.json',\n",
       " '/home/braga/projects/Python/Scraping/TBCA/json/tbca_26.json',\n",
       " '/home/braga/projects/Python/Scraping/TBCA/json/tbca_17.json',\n",
       " '/home/braga/projects/Python/Scraping/TBCA/json/tbca_10.json',\n",
       " '/home/braga/projects/Python/Scraping/TBCA/json/tbca_25.json',\n",
       " '/home/braga/projects/Python/Scraping/TBCA/json/tbca_43.json',\n",
       " '/home/braga/projects/Python/Scraping/TBCA/json/tbca_35.json',\n",
       " '/home/braga/projects/Python/Scraping/TBCA/json/tbca_19.json',\n",
       " '/home/braga/projects/Python/Scraping/TBCA/json/tbca_6.json',\n",
       " '/home/braga/projects/Python/Scraping/TBCA/json/tbca_40.json',\n",
       " '/home/braga/projects/Python/Scraping/TBCA/json/tbca_46.json',\n",
       " '/home/braga/projects/Python/Scraping/TBCA/json/tbca_1.json',\n",
       " '/home/braga/projects/Python/Scraping/TBCA/json/tbca_8.json',\n",
       " '/home/braga/projects/Python/Scraping/TBCA/json/tbca_24.json',\n",
       " '/home/braga/projects/Python/Scraping/TBCA/json/tbca_18.json',\n",
       " '/home/braga/projects/Python/Scraping/TBCA/json/tbca_36.json',\n",
       " '/home/braga/projects/Python/Scraping/TBCA/json/tbca_20.json',\n",
       " '/home/braga/projects/Python/Scraping/TBCA/json/tbca_47.json']"
      ]
     },
     "execution_count": 10,
     "metadata": {},
     "output_type": "execute_result"
    }
   ],
   "source": [
    "files"
   ]
  }
 ],
 "metadata": {
  "kernelspec": {
   "display_name": "Python 3 (ipykernel)",
   "language": "python",
   "name": "python3"
  },
  "language_info": {
   "codemirror_mode": {
    "name": "ipython",
    "version": 3
   },
   "file_extension": ".py",
   "mimetype": "text/x-python",
   "name": "python",
   "nbconvert_exporter": "python",
   "pygments_lexer": "ipython3",
   "version": "3.11.5"
  }
 },
 "nbformat": 4,
 "nbformat_minor": 5
}
