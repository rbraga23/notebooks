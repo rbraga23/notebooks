{
 "cells": [
  {
   "cell_type": "code",
   "execution_count": 1,
   "metadata": {},
   "outputs": [],
   "source": [
    "import pandas as pd\n",
    "from unidecode import unidecode\n",
    "import time\n",
    "from datetime import date, datetime\n",
    "from dateutil.parser import parse\n",
    "from sklearn.preprocessing import LabelEncoder"
   ]
  },
  {
   "cell_type": "code",
   "execution_count": 2,
   "metadata": {},
   "outputs": [
    {
     "data": {
      "text/plain": [
       "(3840, 27)"
      ]
     },
     "execution_count": 2,
     "metadata": {},
     "output_type": "execute_result"
    }
   ],
   "source": [
    "csv_name = 'cvs_name'\n",
    "csv = pd.read_csv('bases 2023/' + csv_name + '.csv', low_memory=False, sep=';', encoding='utf8')\n",
    "csv.shape"
   ]
  },
  {
   "cell_type": "code",
   "execution_count": 3,
   "metadata": {},
   "outputs": [
    {
     "data": {
      "text/plain": [
       "Index(['RECORD_ID', 'DATA_EM_QUE_SE_TORNOU_UM_LEAD',\n",
       "       'DATA_EM_QUE_SE_TORNOU_UMA_OPORTUNIDADE', 'DATA_DE_CRIACAO',\n",
       "       'DATA_DA_PRIMEIRA_ABERTURA_DO_E_MAIL_DE_MARKETING',\n",
       "       'DATA_DA_ULTIMA_ABERTURA_DO_E_MAIL_DE_MARKETING',\n",
       "       'DATA_DO_PRIMEIRO_CLIQUE_DO_E_MAIL_DE_MARKETING',\n",
       "       'DATA_DO_PRIMEIRO_ENVIO_DO_E_MAIL_DE_MARKETING',\n",
       "       'DATA_DO_ULTIMO_CLIQUE_DO_E_MAIL_DE_MARKETING',\n",
       "       'DATA_DO_ULTIMO_ENVIO_DO_E_MAIL_DE_MARKETING',\n",
       "       'E_MAILS_DE_MARKETING_ABERTOS', 'E_MAILS_DE_MARKETING_CLICADOS',\n",
       "       'E_MAILS_DE_MARKETING_ENTREGUES', 'NUMERO_DE_ATIVIDADES_DE_VENDAS',\n",
       "       'NUMERO_DE_CONTATOS_EFETUADOS', 'FONTE_MAIS_RECENTE', 'FONTE_ORIGINAL',\n",
       "       'NUMERO_DE_SESSOES', 'NUMERO_DE_VISUALIZACOES_DE_PAGINA',\n",
       "       'VISUALIZACOES_DE_PAGINA_MEDIA', 'PROPRIETARIO_DO_CONTATO',\n",
       "       'NUMERO_DE_ENVIO_DE_FORMULARIOS',\n",
       "       'NUMERO_DE_FORMULARIOS_UNICOS_ENVIADOS', 'E_MAIL',\n",
       "       'FASE_DO_CICLO_DE_VIDA', 'REFERENCIA', 'REFERENCIA_BINARIO'],\n",
       "      dtype='object')"
      ]
     },
     "execution_count": 3,
     "metadata": {},
     "output_type": "execute_result"
    }
   ],
   "source": [
    "for col in csv.columns:\n",
    "    csv.rename(columns={col: unidecode(col.replace(' ', '_').replace('.', '_').replace('[', '').replace(']', '').replace('(', '').replace(')', '').replace('-', '_').replace('/', '_').upper())}, inplace=True)\n",
    "\n",
    "export = csv.to_csv(r'bases 2024/' + csv_name + '_fixed.csv', index=False, encoding='utf-8')\n",
    "csv_fixed = pd.read_csv('bases 2024/' + csv_name + '_fixed.csv', low_memory=False)\n",
    "\n",
    "csv_fixed.columns"
   ]
  },
  {
   "cell_type": "code",
   "execution_count": 4,
   "metadata": {},
   "outputs": [],
   "source": [
    "csv_fixed['FONTE_ORIGINAL'] = csv_fixed['FONTE_ORIGINAL'].astype('category').cat.codes\n",
    "csv_fixed['PROPRIETARIO_DO_CONTATO'] = csv_fixed['PROPRIETARIO_DO_CONTATO'].astype('category').cat.codes\n",
    "csv_fixed['FONTE_MAIS_RECENTE'] = csv_fixed['FONTE_MAIS_RECENTE'].astype('category').cat.codes\n",
    "# csv_fixed['PROPRIETARIO_DO_CONTATO'] = csv_fixed['PROPRIETARIO_DO_CONTATO'].astype('category').cat.codes\n",
    "# csv_fixed['INTERAGIU_COM_O_BOT'] = csv_fixed['INTERAGIU_COM_O_BOT'].astype('category').cat.codes\n",
    "# csv_fixed['CAMPANHA_DE_CONVERSAO_NO_PRIMEIRO_CONTATO'] = csv_fixed['CAMPANHA_DE_CONVERSAO_NO_PRIMEIRO_CONTATO'].astype('category').cat.codes\n",
    "# csv_fixed['CAMPANHA_DE_CONVERSAO_NO_ULTIMO_CONTATO'] = csv_fixed['CAMPANHA_DE_CONVERSAO_NO_ULTIMO_CONTATO'].astype('category').cat.codes\n",
    "# csv_fixed['INDUSTRY'] = csv_fixed['INDUSTRY'].astype('category').cat.codes\n",
    "# csv_fixed['PROPRIETARIO_DO_CONTATO'] = csv_fixed['PROPRIETARIO_DO_CONTATO'].astype('category').cat.codes\n",
    "# csv_fixed['DISPARADOR_DO_WHATSAPP'] = csv_fixed['DISPARADOR_DO_WHATSAPP'].astype('category').cat.codes\n",
    "# csv_fixed['INTERAGIU_COM_O_BOT'] = csv_fixed['FONTE_MAIS_RECENTE'].astype('category').cat.codes"
   ]
  },
  {
   "cell_type": "code",
   "execution_count": 5,
   "metadata": {},
   "outputs": [],
   "source": [
    "def is_date(string, fuzzy=False):\n",
    "    try: \n",
    "        parse(string, fuzzy=fuzzy)\n",
    "        return True\n",
    "\n",
    "    except ValueError:\n",
    "        return False\n",
    "\n",
    "\n",
    "for i in range(len(csv_fixed)):\n",
    "    for column in csv_fixed.columns:\n",
    "        if (column == 'EMAIL'):\n",
    "            continue\n",
    "        if (isinstance(csv_fixed.at[i, column], str) and (len(csv_fixed.at[i, column]) < 20) and is_date(csv_fixed.at[i, column])):\n",
    "            try:\n",
    "                csv_fixed.at[i, column] = datetime.timestamp(parse(csv_fixed.at[i, column]))\n",
    "            except:\n",
    "                csv_fixed.at[i, column] = 0\n",
    "        elif (isinstance(csv_fixed.at[i, column], str)):\n",
    "            csv_fixed.at[i, column] = unidecode(csv_fixed.at[i, column])"
   ]
  },
  {
   "cell_type": "code",
   "execution_count": null,
   "metadata": {},
   "outputs": [],
   "source": [
    "csv_fixed.head()"
   ]
  },
  {
   "cell_type": "code",
   "execution_count": 6,
   "metadata": {},
   "outputs": [],
   "source": [
    "csv_fixed = csv_fixed.fillna(0)"
   ]
  },
  {
   "cell_type": "code",
   "execution_count": null,
   "metadata": {},
   "outputs": [],
   "source": [
    "csv_fixed.head()"
   ]
  },
  {
   "cell_type": "code",
   "execution_count": 7,
   "metadata": {},
   "outputs": [],
   "source": [
    "export = csv_fixed.to_csv(r'bases 2023/' + csv_name + '_fixed.csv', index=False, encoding='utf-8-sig')"
   ]
  }
 ],
 "metadata": {
  "kernelspec": {
   "display_name": "Python 3 (ipykernel)",
   "language": "python",
   "name": "python3"
  },
  "language_info": {
   "codemirror_mode": {
    "name": "ipython",
    "version": 3
   },
   "file_extension": ".py",
   "mimetype": "text/x-python",
   "name": "python",
   "nbconvert_exporter": "python",
   "pygments_lexer": "ipython3",
   "version": "3.11.5"
  }
 },
 "nbformat": 4,
 "nbformat_minor": 4
}
