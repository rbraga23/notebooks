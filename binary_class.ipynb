{
 "cells": [
  {
   "cell_type": "code",
   "execution_count": null,
   "id": "ad562aa9-5d53-4c36-b8e6-b39e195babfe",
   "metadata": {},
   "outputs": [],
   "source": [
    "import pandas as pd\n",
    "import numpy as np\n",
    "\n",
    "pd.set_option('display.max_columns', None)"
   ]
  },
  {
   "cell_type": "code",
   "execution_count": null,
   "id": "4f400bd2-c18f-49c6-a290-90ed950f9d2d",
   "metadata": {},
   "outputs": [],
   "source": [
    "csv_name = 'WATSON_fixed'\n",
    "csv = pd.read_csv('bases 2024/' + csv_name + '.csv', low_memory=False, sep=';', encoding='utf8')\n",
    "total_rows, total_columns = csv.shape\n",
    "\n",
    "print(f'CSV possui {total_columns} colunas e {total_rows} linhas')\n",
    "csv.sample(5)"
   ]
  },
  {
   "cell_type": "code",
   "execution_count": null,
   "id": "8ba75d79-6333-43eb-8b23-7b5444e68315",
   "metadata": {},
   "outputs": [],
   "source": [
    "from sklearn.model_selection import train_test_split\n",
    "\n",
    "np.random.seed(42)\n",
    "\n",
    "X = csv.drop(['_TARGET', '_INDEX'], axis = 1)\n",
    "y = csv['_TARGET']\n",
    "\n",
    "X_train, X_test, y_train, y_test = train_test_split(X, y, test_size=0.3)"
   ]
  },
  {
   "cell_type": "code",
   "execution_count": null,
   "id": "0fc2621b-cbbd-40d8-9fb7-cbc7f1caf21b",
   "metadata": {},
   "outputs": [],
   "source": [
    "from sklearn.svm import LinearSVC\n",
    "\n",
    "np.random.seed(42)\n",
    "\n",
    "lclf = LinearSVC(dual='auto')\n",
    "lclf.fit(X_train, y_train)\n",
    "\n",
    "lclf_score = lclf.score(X_test, y_test)\n",
    "\n",
    "lclf_score"
   ]
  },
  {
   "cell_type": "code",
   "execution_count": null,
   "id": "d4d664cd-c3ad-470b-b069-9983a7d1e51a",
   "metadata": {},
   "outputs": [],
   "source": [
    "from sklearn.ensemble import RandomForestClassifier\n",
    "\n",
    "np.random.seed(42)\n",
    "\n",
    "rfclf = RandomForestClassifier(n_estimators = 100)\n",
    "rfclf.fit(X_train, y_train)\n",
    "\n",
    "rfclf_score = rfclf.score(X_test, y_test)\n",
    "rfclf_importances = rfclf.feature_importances_\n",
    "\n",
    "rfclf_score"
   ]
  },
  {
   "cell_type": "code",
   "execution_count": null,
   "id": "d67bf906-8ce1-4922-80e9-4271c31e6a1e",
   "metadata": {},
   "outputs": [],
   "source": [
    "pred_csv_name = 'WATSON_matricula_fixed'\n",
    "Pred_csv = pd.read_csv('bases 2024/' + pred_csv_name + '.csv', low_memory=False, sep=';', encoding='utf8')\n",
    "Pred_total_rows, Pred_total_columns = Pred_csv.shape\n",
    "\n",
    "print(f'CSV possui {total_columns} colunas e {total_rows} linhas')\n",
    "csv.sample(5)"
   ]
  },
  {
   "cell_type": "code",
   "execution_count": null,
   "id": "679dea4f-f6d7-4950-8e7d-1f8b56dc4a77",
   "metadata": {},
   "outputs": [],
   "source": [
    "rfclf_predctions = rfclf.predict_proba(Pred_csv.drop(['_TARGET', '_INDEX'], axis = 1))\n",
    "rfclf_df = pd.DataFrame(data = {\n",
    "    'ID': Pred_csv['_INDEX'],\n",
    "    'Negative Chance': rfclf_predctions[:,0],\n",
    "    'Positive Chance': rfclf_predctions[:,1],\n",
    "})\n",
    "rfclf_df['positive'] = rfclf_df['Positive Chance'].apply(lambda x: 1 if x > 0.5 else 0)"
   ]
  },
  {
   "cell_type": "code",
   "execution_count": null,
   "id": "85fd4101-1c01-4ef3-bc6e-da7a8ebd827b",
   "metadata": {},
   "outputs": [],
   "source": [
    "rfclf_importances_df = pd.DataFrame(data = {\n",
    "    'Feature': Pred_csv.drop(['_TARGET', '_INDEX'], axis = 1).columns,\n",
    "    'Importance': rfclf_importances,\n",
    "})"
   ]
  },
  {
   "cell_type": "code",
   "execution_count": null,
   "id": "0da00f04-488e-4a4f-a222-fa19346a55d1",
   "metadata": {},
   "outputs": [],
   "source": [
    "export = rfclf_df.to_excel(r'scorings 2024/' + csv_name + '_scoring.xlsx', index=False)\n",
    "export = rfclf_importances_df.to_excel(r'scorings 2024/' + csv_name + '_features.xlsx', index=False)"
   ]
  }
 ],
 "metadata": {
  "kernelspec": {
   "display_name": "Python 3 (ipykernel)",
   "language": "python",
   "name": "python3"
  },
  "language_info": {
   "codemirror_mode": {
    "name": "ipython",
    "version": 3
   },
   "file_extension": ".py",
   "mimetype": "text/x-python",
   "name": "python",
   "nbconvert_exporter": "python",
   "pygments_lexer": "ipython3",
   "version": "3.11.5"
  }
 },
 "nbformat": 4,
 "nbformat_minor": 5
}
